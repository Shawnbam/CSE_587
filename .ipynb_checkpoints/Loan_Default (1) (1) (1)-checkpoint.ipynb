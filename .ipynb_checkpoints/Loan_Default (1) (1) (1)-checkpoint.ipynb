{
 "cells": [
  {
   "cell_type": "code",
   "execution_count": 1,
   "id": "0696d2de",
   "metadata": {},
   "outputs": [
    {
     "ename": "ModuleNotFoundError",
     "evalue": "No module named 'pandas_profiling'",
     "output_type": "error",
     "traceback": [
      "\u001b[0;31m---------------------------------------------------------------------------\u001b[0m",
      "\u001b[0;31mModuleNotFoundError\u001b[0m                       Traceback (most recent call last)",
      "Cell \u001b[0;32mIn[1], line 3\u001b[0m\n\u001b[1;32m      1\u001b[0m \u001b[38;5;28;01mimport\u001b[39;00m \u001b[38;5;21;01mpandas\u001b[39;00m \u001b[38;5;28;01mas\u001b[39;00m \u001b[38;5;21;01mpd\u001b[39;00m\n\u001b[1;32m      2\u001b[0m \u001b[38;5;28;01mimport\u001b[39;00m \u001b[38;5;21;01mnumpy\u001b[39;00m \u001b[38;5;28;01mas\u001b[39;00m \u001b[38;5;21;01mnp\u001b[39;00m\n\u001b[0;32m----> 3\u001b[0m \u001b[38;5;28;01mfrom\u001b[39;00m \u001b[38;5;21;01mpandas_profiling\u001b[39;00m \u001b[38;5;28;01mimport\u001b[39;00m ProfileReport\n\u001b[1;32m      4\u001b[0m \u001b[38;5;28;01mimport\u001b[39;00m \u001b[38;5;21;01msklearn\u001b[39;00m\n\u001b[1;32m      6\u001b[0m \u001b[38;5;28;01mimport\u001b[39;00m \u001b[38;5;21;01mseaborn\u001b[39;00m \u001b[38;5;28;01mas\u001b[39;00m \u001b[38;5;21;01msns\u001b[39;00m\n",
      "\u001b[0;31mModuleNotFoundError\u001b[0m: No module named 'pandas_profiling'"
     ]
    }
   ],
   "source": [
    "import pandas as pd\n",
    "import numpy as np\n",
    "from pandas_profiling import ProfileReport\n",
    "import sklearn\n",
    "\n",
    "import seaborn as sns\n",
    "\n",
    "import matplotlib.pyplot as plt\n",
    "\n",
    "from sklearn.compose import ColumnTransformer\n",
    "from sklearn.preprocessing import StandardScaler\n",
    "import matplotlib.pyplot as plt\n",
    "\n",
    "from sklearn.preprocessing import OneHotEncoder\n",
    "from sklearn.preprocessing import LabelEncoder\n",
    "from sklearn.model_selection import train_test_split\n",
    "\n",
    "from sklearn.ensemble import RandomForestClassifier\n",
    "from sklearn.linear_model import LogisticRegression\n",
    "from sklearn.naive_bayes import GaussianNB\n",
    "from sklearn.neural_network import MLPClassifier\n",
    "from sklearn.ensemble import GradientBoostingClassifier\n",
    "from sklearn.tree import DecisionTreeClassifier\n",
    "\n",
    "from sklearn.metrics import accuracy_score\n",
    "from sklearn.metrics import confusion_matrix, ConfusionMatrixDisplay\n",
    "from sklearn.metrics import classification_report"
   ]
  },
  {
   "cell_type": "markdown",
   "id": "5bbf1cd7",
   "metadata": {},
   "source": [
    "## Raw data collection and processing into pandas data frame"
   ]
  },
  {
   "cell_type": "code",
   "execution_count": null,
   "id": "7f0dbbc4",
   "metadata": {},
   "outputs": [],
   "source": [
    "df = pd.read_csv(\"Loan_Default.csv\")"
   ]
  },
  {
   "cell_type": "markdown",
   "id": "c91d98b2",
   "metadata": {},
   "source": [
    "## Do profiling to get overall idea about the data distribution"
   ]
  },
  {
   "cell_type": "code",
   "execution_count": null,
   "id": "2ac80d0a",
   "metadata": {},
   "outputs": [],
   "source": [
    "#prof = ProfileReport(df, title = 'Loan Dataset', explorative = True)\n",
    "\n",
    "#prof.to_file('my_report.html')\n"
   ]
  },
  {
   "cell_type": "markdown",
   "id": "dfa11fb8",
   "metadata": {},
   "source": [
    "## Remove ID and year columns since ID is just unique identifier, and year is 2019 for all"
   ]
  },
  {
   "cell_type": "code",
   "execution_count": null,
   "id": "08205d07",
   "metadata": {},
   "outputs": [],
   "source": [
    "\n",
    "df = df.drop('ID', axis=1)\n",
    "df = df.drop('year', axis=1)"
   ]
  },
  {
   "cell_type": "markdown",
   "id": "f57aa061",
   "metadata": {},
   "source": [
    "## Checking for missing values from columns"
   ]
  },
  {
   "cell_type": "code",
   "execution_count": null,
   "id": "7de37f4a",
   "metadata": {},
   "outputs": [],
   "source": [
    "df = df.dropna(axis = 1)"
   ]
  },
  {
   "cell_type": "markdown",
   "id": "50bf0780",
   "metadata": {},
   "source": [
    "## Checking for rows with missing values in the columns"
   ]
  },
  {
   "cell_type": "code",
   "execution_count": null,
   "id": "b2fa033c",
   "metadata": {},
   "outputs": [],
   "source": [
    "df = df.dropna(axis = 0)"
   ]
  },
  {
   "cell_type": "markdown",
   "id": "1972530a",
   "metadata": {},
   "source": [
    "## Checking if dataset has duplicates rows and droping them\n"
   ]
  },
  {
   "cell_type": "code",
   "execution_count": null,
   "id": "a9776e26",
   "metadata": {},
   "outputs": [],
   "source": [
    "df = df.drop_duplicates()"
   ]
  },
  {
   "cell_type": "markdown",
   "id": "95d1e19c",
   "metadata": {},
   "source": [
    "## Inorder to have data consistency converting the 'Region' column to have lowercase values"
   ]
  },
  {
   "cell_type": "code",
   "execution_count": null,
   "id": "e07add43",
   "metadata": {},
   "outputs": [],
   "source": [
    "df['Region'] = df['Region'].str.lower()\n",
    "\n",
    "# df.head()"
   ]
  },
  {
   "cell_type": "markdown",
   "id": "ef2522f8",
   "metadata": {},
   "source": [
    "## The dataset has incorrect spelling for the the column 'Security_Type' - correcting this\n"
   ]
  },
  {
   "cell_type": "code",
   "execution_count": null,
   "id": "55d0c136",
   "metadata": {},
   "outputs": [],
   "source": [
    "\n",
    "df['Region'] = df['Region'].replace('indriect','indirect')\n",
    "\n",
    "# df.columns"
   ]
  },
  {
   "cell_type": "markdown",
   "id": "97e93f91",
   "metadata": {},
   "source": [
    "## Scaling the 'property_value' in the dataset to optimise the results\n"
   ]
  },
  {
   "cell_type": "code",
   "execution_count": null,
   "id": "b65c08e9",
   "metadata": {},
   "outputs": [],
   "source": [
    "df[['loan_amount']] = StandardScaler().fit_transform(df[['loan_amount']])\n",
    "\n",
    "\n",
    "# df.head()"
   ]
  },
  {
   "cell_type": "markdown",
   "id": "5ab18561",
   "metadata": {},
   "source": [
    "## Define numeric data types"
   ]
  },
  {
   "cell_type": "code",
   "execution_count": null,
   "id": "bb340579",
   "metadata": {},
   "outputs": [],
   "source": [
    "numerics = ['int16', 'int32', 'int64', 'float16', 'float32', 'float64']"
   ]
  },
  {
   "cell_type": "markdown",
   "id": "6e89a1b2",
   "metadata": {},
   "source": [
    "## Checking for outliers"
   ]
  },
  {
   "cell_type": "code",
   "execution_count": null,
   "id": "a8cbc867",
   "metadata": {},
   "outputs": [],
   "source": [
    "for i in df.select_dtypes(include=numerics).columns:\n",
    "    mean = np.mean(df.select_dtypes(include=numerics)[i], axis=0)\n",
    "    sd = np.std(df.select_dtypes(include=numerics)[i], axis=0)\n",
    "    if i in ['ID']:\n",
    "        continue\n",
    "    lt = mean - 3 * sd\n",
    "    rt = mean + 3 * sd\n",
    "    col = i\n",
    "    df = df.query((\"{0} >= @lt & {0} <= @rt\".format(col)))\n",
    "\n",
    "print(df.shape)"
   ]
  },
  {
   "cell_type": "markdown",
   "id": "6971fa4e",
   "metadata": {},
   "source": [
    "## Correlation Heatmap"
   ]
  },
  {
   "cell_type": "code",
   "execution_count": null,
   "id": "3a3449cd",
   "metadata": {},
   "outputs": [],
   "source": [
    "sns.heatmap(df.corr(), annot=True)"
   ]
  },
  {
   "cell_type": "markdown",
   "id": "0d0a31f5",
   "metadata": {},
   "source": [
    "## Changing total_units from string format as 1U, 2U ... to 1, 2"
   ]
  },
  {
   "cell_type": "code",
   "execution_count": null,
   "id": "2f3e953f",
   "metadata": {},
   "outputs": [],
   "source": [
    "df['total_units'] = df['total_units'].astype(str).str.replace('U', '').astype(int)\n",
    "print(df.shape)"
   ]
  },
  {
   "cell_type": "markdown",
   "id": "5daf2faf",
   "metadata": {},
   "source": [
    "## Logic to print graphs in groups of size of mx"
   ]
  },
  {
   "cell_type": "code",
   "execution_count": null,
   "id": "6ca39810",
   "metadata": {},
   "outputs": [],
   "source": [
    "grp = 0\n",
    "mx = 4\n",
    "done = []"
   ]
  },
  {
   "cell_type": "code",
   "execution_count": null,
   "id": "d3d247a8",
   "metadata": {},
   "outputs": [],
   "source": [
    "# plot every feature\n",
    "def categorical_feature_plot_with_target(feature):\n",
    "    plt.figure(figsize=(10, 3))\n",
    "    ax = sns.catplot(x='Status', col=feature, kind='count', data=df, palette=\"cool_r\");\n",
    "    # ax.xaxis.set_label_position('top')\n",
    "    for ax in ax.axes.ravel():\n",
    "        for p in ax.patches:\n",
    "            ax.annotate('{:.1f}'.format(p.get_height()), (p.get_x()+0.25, p.get_height()+0.01))\n",
    "    ax.set_title(f\"Distribution of feature {feature} wrt Output\", y = 1.1, loc = 'left')\n",
    "\n"
   ]
  },
  {
   "cell_type": "markdown",
   "id": "a63ee7e0",
   "metadata": {},
   "source": [
    "## Skip the below columns to plot because of high cardinality leading to higher cognitive overload"
   ]
  },
  {
   "cell_type": "code",
   "execution_count": null,
   "id": "0fd61b4a",
   "metadata": {},
   "outputs": [],
   "source": [
    "skip = ['loan_amount', 'Credit_Score', 'Status']"
   ]
  },
  {
   "cell_type": "markdown",
   "id": "e722b1d1",
   "metadata": {},
   "source": [
    "## for every mx number of columns, plot the box"
   ]
  },
  {
   "cell_type": "code",
   "execution_count": null,
   "id": "9365c636",
   "metadata": {},
   "outputs": [],
   "source": [
    "for i in df.columns:\n",
    "    if i in skip or i in done:\n",
    "        continue\n",
    "    done.append(i)\n",
    "    grp += 1\n",
    "    categorical_feature_plot_with_target(i)\n",
    "    if grp == mx:\n",
    "        grp = 0\n",
    "        break"
   ]
  },
  {
   "cell_type": "code",
   "execution_count": null,
   "id": "11c41028",
   "metadata": {},
   "outputs": [],
   "source": [
    "for i in df.columns:\n",
    "    if i in skip or i in done:\n",
    "        continue\n",
    "    done.append(i)\n",
    "    grp += 1\n",
    "    categorical_feature_plot_with_target(i)\n",
    "    if grp == mx:\n",
    "        grp = 0\n",
    "        break\n",
    "# format validation"
   ]
  },
  {
   "cell_type": "code",
   "execution_count": null,
   "id": "74742356",
   "metadata": {
    "scrolled": true
   },
   "outputs": [],
   "source": [
    "for i in df.columns:\n",
    "    if i in skip or i in done:\n",
    "        continue\n",
    "    done.append(i)\n",
    "    grp += 1\n",
    "    categorical_feature_plot_with_target(i)\n",
    "    if grp == mx:\n",
    "        grp = 0\n",
    "        break\n"
   ]
  },
  {
   "cell_type": "code",
   "execution_count": null,
   "id": "a35d0a10",
   "metadata": {},
   "outputs": [],
   "source": [
    "for i in df.columns:\n",
    "    if i in skip or i in done:\n",
    "        continue\n",
    "    done.append(i)\n",
    "    grp += 1\n",
    "    categorical_feature_plot_with_target(i)\n",
    "    if grp == mx:\n",
    "        grp = 0\n",
    "        break"
   ]
  },
  {
   "cell_type": "markdown",
   "id": "35335e7e",
   "metadata": {},
   "source": [
    "## Bar plot against Status 0"
   ]
  },
  {
   "cell_type": "code",
   "execution_count": null,
   "id": "31da5258",
   "metadata": {},
   "outputs": [],
   "source": [
    "status0 = df[df['Status'] == 0]\n",
    "for i in status0.columns:\n",
    "    plt.bar(status0[i].unique(), status0[i].value_counts())\n",
    "    plt.xlabel(i)\n",
    "    plt.ylabel('Count')\n",
    "    plt.title('Bar plot of ' + i + ' with Status 0')\n",
    "    plt.show()\n"
   ]
  },
  {
   "cell_type": "markdown",
   "id": "90f81617",
   "metadata": {},
   "source": [
    "\n",
    "\n",
    "\n",
    "\n",
    "\n",
    "\n",
    "\n",
    "## Bar plot against Status 1"
   ]
  },
  {
   "cell_type": "code",
   "execution_count": null,
   "id": "dafc6080",
   "metadata": {},
   "outputs": [],
   "source": [
    "status1 = df[df['Status'] == 1]\n",
    "for i in status1.columns:\n",
    "    plt.bar(status1[i].unique(), status1[i].value_counts())\n",
    "    plt.xlabel(i)\n",
    "    plt.ylabel('Count')\n",
    "    plt.title('Bar plot of ' + i + ' with Status 1')\n",
    "    plt.show()\n"
   ]
  },
  {
   "cell_type": "markdown",
   "id": "eb460fde",
   "metadata": {},
   "source": [
    "## Pair Plot"
   ]
  },
  {
   "cell_type": "code",
   "execution_count": null,
   "id": "4008a3fa",
   "metadata": {},
   "outputs": [],
   "source": [
    "sns.pairplot(df.drop(['Status'], axis=1))\n",
    "plt.title('Pair plot')\n",
    "plt.show()\n"
   ]
  },
  {
   "cell_type": "code",
   "execution_count": null,
   "id": "79edd75e",
   "metadata": {},
   "outputs": [],
   "source": [
    "\n",
    "status1 = df[df['Status'] == 1]\n",
    "s = pd.Series(status1['Credit_Score'], name = 'as')\n",
    "ax = s.plot.kde()\n"
   ]
  },
  {
   "cell_type": "code",
   "execution_count": null,
   "id": "cedbb23c",
   "metadata": {},
   "outputs": [],
   "source": [
    "\n",
    "status1 = df[df['Status'] == 0]\n",
    "s = pd.Series(status1['Credit_Score'], name = 'as')\n",
    "ax = s.plot.kde()\n"
   ]
  },
  {
   "cell_type": "code",
   "execution_count": null,
   "id": "30287f1a",
   "metadata": {},
   "outputs": [],
   "source": [
    "\n",
    "status1 = df[df['Status'] == 1]\n",
    "s = pd.Series(status1['loan_amount'])\n",
    "ax = s.plot.kde()"
   ]
  },
  {
   "cell_type": "code",
   "execution_count": null,
   "id": "24dfaca5",
   "metadata": {},
   "outputs": [],
   "source": [
    "\n",
    "status1 = df[df['Status'] == 0]\n",
    "s = pd.Series(status1['loan_amount'])\n",
    "ax = s.plot.kde()"
   ]
  },
  {
   "cell_type": "code",
   "execution_count": null,
   "id": "2a3aaa60",
   "metadata": {},
   "outputs": [],
   "source": [
    "#df.to_csv('final_dataset.csv')\n",
    "\n",
    "df.columns"
   ]
  },
  {
   "cell_type": "code",
   "execution_count": null,
   "id": "067ef9ac",
   "metadata": {},
   "outputs": [],
   "source": [
    "#Encoding the categorical variables"
   ]
  },
  {
   "cell_type": "code",
   "execution_count": null,
   "id": "2c9d7af4",
   "metadata": {},
   "outputs": [],
   "source": [
    "#Seperating the categorical and numerical columns based on the datatype\n",
    "\n",
    "datatype = pd.DataFrame(df.dtypes).reset_index()\n",
    "#print(datatype)\n",
    "categorical = []\n",
    "numerical = []\n",
    "for i, j in zip(datatype['index'], datatype[0]):\n",
    "    if j == 'object':\n",
    "        categorical.append(i)\n",
    "        \n",
    "    else:\n",
    "        numerical.append(i)\n",
    "        \n",
    "        \n",
    "print(categorical)\n",
    "\n",
    "print(numerical)\n",
    "\n",
    "# Binary variables\n",
    "binary_variables = ['Security_Type', 'co-applicant_credit_type', 'Secured_by',\n",
    "               'lump_sum_payment', 'interest_only', 'construction_type', 'business_or_commercial',\n",
    "               'open_credit', 'Credit_Worthiness','Status']\n"
   ]
  },
  {
   "cell_type": "code",
   "execution_count": null,
   "id": "88f7fa4f",
   "metadata": {},
   "outputs": [],
   "source": [
    "binary_variables"
   ]
  },
  {
   "cell_type": "code",
   "execution_count": null,
   "id": "da79e035",
   "metadata": {},
   "outputs": [],
   "source": [
    "df.columns"
   ]
  },
  {
   "cell_type": "code",
   "execution_count": null,
   "id": "e02d731e",
   "metadata": {},
   "outputs": [],
   "source": [
    "df[binary_variables]"
   ]
  },
  {
   "cell_type": "code",
   "execution_count": null,
   "id": "68e99f94",
   "metadata": {},
   "outputs": [],
   "source": [
    "categorical"
   ]
  },
  {
   "cell_type": "code",
   "execution_count": null,
   "id": "453ff690",
   "metadata": {},
   "outputs": [],
   "source": [
    "BinaryEncoder = LabelEncoder()\n",
    "\n",
    "#for i in binary_variables:\n",
    "    #df[i] = labelEncoder.fit_transform(df[i])\n",
    "\n",
    "BinaryEncoder.fit"
   ]
  },
  {
   "cell_type": "code",
   "execution_count": null,
   "id": "175b275b",
   "metadata": {},
   "outputs": [],
   "source": [
    "#labelEncoder = LabelEncoder()\n",
    "\n",
    "#for i in binary_variables:\n",
    "   # df[i] = labelEncoder.fit_transform(df[i])\n",
    "\n",
    "\n",
    "\n",
    "df_categorical = df[categorical]\n",
    "#df_categorical.drop(columns=binary_variables,axis = 1, inplace=True)\n",
    "\n",
    "df_categorical.columns\n",
    "\n",
    "#Using one hot encoding\n",
    "\n",
    "oneHotEncoder_categorical = OneHotEncoder()\n",
    "df_onehot = oneHotEncoder_categorical.fit_transform(df_categorical)\n",
    "df_enc_categorical = pd.DataFrame(df_onehot.toarray())\n",
    "\n",
    "\n",
    "# Column names\n",
    "print(oneHotEncoder_categorical.categories_)\n",
    "\n",
    "oneHotEncoder_categorical.categories_\n",
    "\n",
    "cat_columns = ['Female', 'Joint', 'Male', 'Sex Not Available',\n",
    "               'type1', 'type2', 'type3',\n",
    "               'ir', 'pr', 'sr',\n",
    "               'CIB', 'CRIF', 'EQUI', 'EXP',\n",
    "               'north', 'north-east', 'central', 'south']\n",
    "\n",
    "#df_enc_categorical.columns = cat_columns\n",
    "df.drop(columns=df_categorical.columns, inplace=True)\n",
    "# Concat\n",
    "df_merged = pd.concat([df, df_enc_categorical], axis=1, join='inner')\n",
    "\n",
    "print(done)\n",
    "\n",
    "df_merged\n",
    "\n",
    "df_merged.columns"
   ]
  },
  {
   "cell_type": "code",
   "execution_count": null,
   "id": "976fb2c3",
   "metadata": {},
   "outputs": [],
   "source": [
    "#Splitting the data into training set and test set\n",
    "\n",
    "\n",
    "df_merged.columns = df_merged.columns.astype(str)\n",
    "\n",
    "training_set, testing_set = train_test_split(df_merged, test_size=0.4, random_state=42)\n",
    "\n",
    "y_train = training_set['Status']\n",
    "X_train = training_set.drop(columns=['Status'], axis = 1)\n",
    "y_test = testing_set['Status']\n",
    "X_test = testing_set.drop(columns=['Status'])\n",
    "\n",
    "\n",
    "\n"
   ]
  },
  {
   "cell_type": "code",
   "execution_count": null,
   "id": "4035a7bb",
   "metadata": {},
   "outputs": [],
   "source": [
    "X_train.shape"
   ]
  },
  {
   "cell_type": "markdown",
   "id": "5dbc9bf0",
   "metadata": {},
   "source": [
    "# Model 1 - Random Forest Classifier"
   ]
  },
  {
   "cell_type": "code",
   "execution_count": null,
   "id": "1be49dbe",
   "metadata": {},
   "outputs": [],
   "source": [
    "y_train.shape"
   ]
  },
  {
   "cell_type": "code",
   "execution_count": null,
   "id": "d6887da1",
   "metadata": {},
   "outputs": [],
   "source": [
    "y_test.shape"
   ]
  },
  {
   "cell_type": "code",
   "execution_count": null,
   "id": "bb9da619",
   "metadata": {},
   "outputs": [],
   "source": [
    "X_test.shape"
   ]
  },
  {
   "cell_type": "code",
   "execution_count": null,
   "id": "414426e9",
   "metadata": {},
   "outputs": [],
   "source": [
    "randomForest = RandomForestClassifier()\n",
    "\n",
    "\n",
    "# Fitting the model\n",
    "\n",
    "randomForest.fit(X_train, y_train)\n",
    "\n",
    "# Predictions\n",
    "\n",
    "predict = randomForest.predict(X_test)\n",
    "\n",
    "#Plotting the confusion matrix\n",
    "\n",
    "confusionMatrix = confusion_matrix(y_test, predict)\n",
    "print(confusionMatrix)\n",
    "print(accuracy_score(y_test, predict))\n",
    "\n",
    "\n",
    "print(\"done\")"
   ]
  },
  {
   "cell_type": "code",
   "execution_count": null,
   "id": "4bd809fe",
   "metadata": {},
   "outputs": [],
   "source": [
    "# Plotting the confusion matrix as heatmap\n",
    "sns.heatmap(confusionMatrix, annot=True, cmap='Greens')\n",
    "\n",
    "\n",
    "plt.xlabel('Predicted Labels')\n",
    "plt.ylabel('True Labels')\n",
    "plt.title('Confusion Matrix')\n",
    "\n",
    "plt.show()\n"
   ]
  },
  {
   "cell_type": "code",
   "execution_count": null,
   "id": "06844134",
   "metadata": {},
   "outputs": [],
   "source": [
    "\n",
    "print(classification_report(y_test,predict))"
   ]
  },
  {
   "cell_type": "markdown",
   "id": "ae799ccb",
   "metadata": {},
   "source": [
    "# Model 2 - Logistic Regression"
   ]
  },
  {
   "cell_type": "code",
   "execution_count": null,
   "id": "8bbe113a",
   "metadata": {},
   "outputs": [],
   "source": [
    "logmodel = LogisticRegression(max_iter=100000)\n",
    "logmodel.fit(X_train,y_train)\n",
    "predict = logmodel.predict(X_test)"
   ]
  },
  {
   "cell_type": "code",
   "execution_count": null,
   "id": "167207e7",
   "metadata": {},
   "outputs": [],
   "source": [
    "confusionMatrix = confusion_matrix(y_test, predict)\n",
    "print(confusionMatrix)\n",
    "print(accuracy_score(y_test, predict))"
   ]
  },
  {
   "cell_type": "code",
   "execution_count": null,
   "id": "b9e2b76b",
   "metadata": {},
   "outputs": [],
   "source": [
    "sns.heatmap(confusionMatrix, annot=True, cmap='Greens')\n",
    "\n",
    "\n",
    "plt.xlabel('Predicted Labels')\n",
    "plt.ylabel('True Labels')\n",
    "plt.title('Confusion Matrix')\n",
    "\n",
    "plt.show()\n"
   ]
  },
  {
   "cell_type": "code",
   "execution_count": null,
   "id": "f4c29d0b",
   "metadata": {
    "scrolled": true
   },
   "outputs": [],
   "source": [
    "print(classification_report(y_test,predict))"
   ]
  },
  {
   "cell_type": "markdown",
   "id": "2c9024f0",
   "metadata": {},
   "source": [
    "# Model 3 - Neural Network\n"
   ]
  },
  {
   "cell_type": "code",
   "execution_count": null,
   "id": "ec5e4fd8",
   "metadata": {},
   "outputs": [],
   "source": [
    "clf = MLPClassifier(random_state=1, hidden_layer_sizes=[10,10], max_iter=3000)\n",
    "clf.fit(X_train, y_train)\n",
    "predict=clf.predict(X_test)"
   ]
  },
  {
   "cell_type": "code",
   "execution_count": null,
   "id": "3a1b06de",
   "metadata": {},
   "outputs": [],
   "source": [
    "\n",
    "confusionMatrix = confusion_matrix(y_test, predict)\n",
    "print(confusionMatrix)\n"
   ]
  },
  {
   "cell_type": "code",
   "execution_count": null,
   "id": "34766c37",
   "metadata": {},
   "outputs": [],
   "source": [
    "print(accuracy_score(y_test, predict))\n",
    "\n",
    "accuracy = accuracy_score(y_test, predict)*100\n",
    "print('Accuracy of Neural Networks model is equal ' + str(round(accuracy, 2)) + ' %.')\n",
    "print(classification_report(y_test,predict))"
   ]
  },
  {
   "cell_type": "code",
   "execution_count": null,
   "id": "ac1ce2c5",
   "metadata": {},
   "outputs": [],
   "source": [
    "sns.heatmap(confusionMatrix, annot=True, cmap='Greens')\n",
    "\n",
    "\n",
    "plt.xlabel('Predicted Labels')\n",
    "plt.ylabel('True Labels')\n",
    "plt.title('Confusion Matrix')\n",
    "\n",
    "plt.show()"
   ]
  },
  {
   "cell_type": "markdown",
   "id": "98a092ee",
   "metadata": {},
   "source": [
    "# Model 4 - Naive Bayes Classifier"
   ]
  },
  {
   "cell_type": "code",
   "execution_count": null,
   "id": "e2ab701d",
   "metadata": {},
   "outputs": [],
   "source": [
    "NB = GaussianNB()\n",
    "NB.fit(X_train,y_train)\n",
    "predict=NB.predict(X_test)"
   ]
  },
  {
   "cell_type": "code",
   "execution_count": null,
   "id": "926f6a1c",
   "metadata": {},
   "outputs": [],
   "source": [
    "confusionMatrix = confusion_matrix(y_test, predict)\n",
    "print(confusionMatrix)\n",
    "print(accuracy_score(y_test, predict))"
   ]
  },
  {
   "cell_type": "code",
   "execution_count": null,
   "id": "426fc492",
   "metadata": {},
   "outputs": [],
   "source": [
    "sns.heatmap(confusionMatrix, annot=True, cmap='Greens')\n",
    "\n",
    "\n",
    "plt.xlabel('Predicted Labels')\n",
    "plt.ylabel('True Labels')\n",
    "plt.title('Confusion Matrix')\n",
    "\n",
    "plt.show()"
   ]
  },
  {
   "cell_type": "code",
   "execution_count": null,
   "id": "d9566d5f",
   "metadata": {},
   "outputs": [],
   "source": [
    "print(classification_report(y_test,predict))"
   ]
  },
  {
   "cell_type": "markdown",
   "id": "61c32ae2",
   "metadata": {},
   "source": [
    "# Model 5 - Gradient Boosting Classifier"
   ]
  },
  {
   "cell_type": "code",
   "execution_count": null,
   "id": "ddf9078a",
   "metadata": {},
   "outputs": [],
   "source": [
    "gdboost = GradientBoostingClassifier()\n",
    "gdboost.fit(X_train,y_train)\n",
    "predict=gdboost.predict(X_test)"
   ]
  },
  {
   "cell_type": "code",
   "execution_count": null,
   "id": "85a1ae77",
   "metadata": {},
   "outputs": [],
   "source": [
    "confusionMatrix = confusion_matrix(y_test, predict)\n",
    "print(confusionMatrix)\n",
    "print(accuracy_score(y_test, predict))"
   ]
  },
  {
   "cell_type": "code",
   "execution_count": null,
   "id": "4eb91316",
   "metadata": {},
   "outputs": [],
   "source": [
    "sns.heatmap(confusionMatrix, annot=True, cmap='Greens')\n",
    "\n",
    "\n",
    "plt.xlabel('Predicted Labels')\n",
    "plt.ylabel('True Labels')\n",
    "plt.title('Confusion Matrix')\n",
    "\n",
    "plt.show()"
   ]
  },
  {
   "cell_type": "code",
   "execution_count": null,
   "id": "ccf0ce91",
   "metadata": {},
   "outputs": [],
   "source": [
    "print(classification_report(y_test,predict))"
   ]
  },
  {
   "cell_type": "markdown",
   "id": "26bca423",
   "metadata": {},
   "source": [
    "# Model 6 - Decision Tree Classification"
   ]
  },
  {
   "cell_type": "code",
   "execution_count": null,
   "id": "b3510de3",
   "metadata": {},
   "outputs": [],
   "source": [
    "tree=DecisionTreeClassifier()\n",
    "tree.fit(X_train, y_train)\n",
    "predict = tree.predict(X_test)"
   ]
  },
  {
   "cell_type": "code",
   "execution_count": null,
   "id": "493202fb",
   "metadata": {},
   "outputs": [],
   "source": [
    "confusionMatrix = confusion_matrix(y_test, predict)\n",
    "print(confusionMatrix)\n",
    "print(accuracy_score(y_test, predict))"
   ]
  },
  {
   "cell_type": "code",
   "execution_count": null,
   "id": "ef8f0508",
   "metadata": {},
   "outputs": [],
   "source": [
    "sns.heatmap(confusionMatrix, annot=True, cmap='Greens')\n",
    "\n",
    "\n",
    "plt.xlabel('Predicted Labels')\n",
    "plt.ylabel('True Labels')\n",
    "plt.title('Confusion Matrix')\n",
    "\n",
    "plt.show()"
   ]
  },
  {
   "cell_type": "code",
   "execution_count": null,
   "id": "237b319a",
   "metadata": {},
   "outputs": [],
   "source": [
    "print(classification_report(y_test,predict))"
   ]
  },
  {
   "cell_type": "code",
   "execution_count": null,
   "id": "5845b5b4",
   "metadata": {},
   "outputs": [],
   "source": []
  },
  {
   "cell_type": "code",
   "execution_count": null,
   "id": "a1abc078",
   "metadata": {},
   "outputs": [],
   "source": []
  },
  {
   "cell_type": "code",
   "execution_count": null,
   "id": "64a71a7e",
   "metadata": {},
   "outputs": [],
   "source": []
  }
 ],
 "metadata": {
  "kernelspec": {
   "display_name": "Python 3 (ipykernel)",
   "language": "python",
   "name": "python3"
  },
  "language_info": {
   "codemirror_mode": {
    "name": "ipython",
    "version": 3
   },
   "file_extension": ".py",
   "mimetype": "text/x-python",
   "name": "python",
   "nbconvert_exporter": "python",
   "pygments_lexer": "ipython3",
   "version": "3.8.10"
  }
 },
 "nbformat": 4,
 "nbformat_minor": 5
}
