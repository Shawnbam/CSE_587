{
 "cells": [
  {
   "cell_type": "code",
   "execution_count": null,
   "metadata": {},
   "outputs": [],
   "source": [
    "import pickle\n",
    "\n",
    "randomForest = None\n",
    "with open('randomForest.pkl', 'wb') as f:\n",
    "    randomForest = pickle.load(f)\n",
    "def getRandomForestClassification(X_Test_New):\n",
    "    prediction = randomForest.predict(X_Test_New)\n",
    "    return prediction\n",
    "\n",
    "logmodel = None\n",
    "with open('logmodel.pkl', 'wb') as f:\n",
    "    logmodel = pickle.load(f)\n",
    "def getLogisticClassification(X_Test_New):\n",
    "    prediction = logmodel.predict(X_Test_New)\n",
    "    return prediction\n",
    "\n",
    "clf = None\n",
    "with open('clf.pkl', 'wb') as f:\n",
    "    clf = pickle.load(f)\n",
    "def getCLFClassification(X_Test_New):\n",
    "    prediction = clf.predict(X_Test_New)\n",
    "    return prediction\n",
    "\n",
    "NB = None\n",
    "with open('NB.pkl', 'wb') as f:\n",
    "    NB = pickle.load(f)\n",
    "def getNBClassification(X_Test_New):\n",
    "    prediction = NB.predict(X_Test_New)\n",
    "    return prediction\n",
    "\n",
    "gdboost = None\n",
    "with open('gdboost.pkl', 'wb') as f:\n",
    "    gdboost = pickle.load(f)\n",
    "def getGDBoostClassification(X_Test_New):\n",
    "    prediction = gdboost.predict(X_Test_New)\n",
    "    return prediction\n",
    "\n",
    "tree = None\n",
    "with open('tree.pkl', 'wb') as f:\n",
    "    tree = pickle.load(f)\n",
    "def getTreeClassification(X_Test_New):\n",
    "    prediction = tree.predict(X_Test_New)\n",
    "    return prediction"
   ]
  }
 ],
 "metadata": {
  "language_info": {
   "name": "python"
  },
  "orig_nbformat": 4
 },
 "nbformat": 4,
 "nbformat_minor": 2
}
